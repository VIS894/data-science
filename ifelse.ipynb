{
 "cells": [
  {
   "cell_type": "code",
   "execution_count": null,
   "id": "e3023ee8",
   "metadata": {},
   "outputs": [
    {
     "ename": "",
     "evalue": "",
     "output_type": "error",
     "traceback": [
      "\u001b[1;31mRunning cells with 'Python 3.11.9' requires the ipykernel package.\n",
      "\u001b[1;31m<a href='command:jupyter.createPythonEnvAndSelectController'>Create a Python Environment</a> with the required packages.\n",
      "\u001b[1;31mOr install 'ipykernel' using the command: '\"c:/Users/language lab/AppData/Local/Microsoft/WindowsApps/python3.11.exe\" -m pip install ipykernel -U --user --force-reinstall'"
     ]
    }
   ],
   "source": [
    "##conditional statements --> if,elif,else\n",
    "a= 10\n",
    "b = 20\n",
    "c= 30\n",
    "\n",
    "if not(b>a and a<c):\n",
    "\n",
    "    print(\"b is greater than a and a is less than c\")\n",
    "\n",
    "else:\n",
    "    print(\"b is less than a\")    "
   ]
  },
  {
   "cell_type": "code",
   "execution_count": null,
   "id": "a27b7374",
   "metadata": {},
   "outputs": [],
   "source": [
    "a = int(input(\"entr tge\"))\n",
    "if a>0:\n",
    "    if a%5== 0 and a%7 == 0:\n",
    "        print(\"a is divisible\")\n",
    "    else:\n",
    "        print(\"a is not divisible\")    \n",
    "else:\n",
    "    print(\"proper answerr\")\n"
   ]
  },
  {
   "cell_type": "code",
   "execution_count": null,
   "metadata": {},
   "outputs": [],
   "source": [
    "a = int(input(\"entr tge\"))\n",
    "if a>0:\n",
    "    if a%4 == 0:\n",
    "        "
   ]
  },
  {
   "cell_type": "code",
   "execution_count": null,
   "id": "3d3247d4",
   "metadata": {},
   "outputs": [],
   "source": [
    "#for and while loop\n",
    "#fkor loop -- iterating over a sepuence (lst, tuple, string)\n",
    "#string\n",
    "# for i in \"hello\":\n",
    "#     print(i)\n",
    "    ## list \n",
    "lst = [\"red\",\"blue\",\"green\",\"bladk\"]\n",
    "for i in lst:\n",
    "        print( i, end=\" \")"
   ]
  },
  {
   "cell_type": "code",
   "execution_count": null,
   "id": "57549d97",
   "metadata": {},
   "outputs": [],
   "source": [
    "dit ={\n",
    "    \"name\":[\"hello\",\"vishal\"],\n",
    "    \"age\":20,\n",
    "    \"hobby\":\"coding\",\n",
    "    \"age\":{\"age1\":10,\"age2\" :40}\n",
    "}\n",
    "for i , y in dit.items():\n",
    "  print(i,\"-----\",y)"
   ]
  },
  {
   "cell_type": "code",
   "execution_count": null,
   "id": "cc4ca57f",
   "metadata": {},
   "outputs": [],
   "source": [
    "for i in range(2,8,2):\n",
    "    print(i)"
   ]
  },
  {
   "cell_type": "code",
   "execution_count": null,
   "id": "eb3d77d9",
   "metadata": {},
   "outputs": [],
   "source": [
    "##nested forlooop\n",
    "lst1 = [1,2,3]\n",
    "lst2 = [\"red \",\"blue\",\"green\"]\n",
    "for i in lst1:\n",
    "    for j in lst2:\n",
    "        print(i,j)\n",
    "        print(\"----\")\n"
   ]
  },
  {
   "cell_type": "code",
   "execution_count": null,
   "id": "459cdaf7",
   "metadata": {},
   "outputs": [],
   "source": [
    "##break \n",
    "for i in range(1,10):\n",
    "    if i == 5:\n",
    "        break\n",
    "    print(i)\n"
   ]
  },
  {
   "cell_type": "code",
   "execution_count": null,
   "id": "b8b337b5",
   "metadata": {},
   "outputs": [],
   "source": [
    "## continue\n",
    "for i in range(1,10):\n",
    "    if i == 5:\n",
    "        continue\n",
    "    print(i)\n"
   ]
  },
  {
   "cell_type": "code",
   "execution_count": null,
   "id": "b7de0299",
   "metadata": {},
   "outputs": [],
   "source": [
    "##pass\n",
    "for i in range(1,10):\n",
    "    pass"
   ]
  },
  {
   "cell_type": "markdown",
   "id": "79a3b396",
   "metadata": {},
   "source": [
    "##you have to square the given list and print the result in a  list"
   ]
  },
  {
   "cell_type": "code",
   "execution_count": null,
   "id": "129216af",
   "metadata": {},
   "outputs": [],
   "source": [
    "lst = [1,2,3,4]\n",
    "squared = [x**2 for x in lst]\n",
    "print(squared)"
   ]
  },
  {
   "cell_type": "code",
   "execution_count": null,
   "metadata": {},
   "outputs": [],
   "source": [
    "lst = [1,2,3,4,5]\n",
    "lst1 =[]\n",
    "for i in lst:\n",
    "    lst1.append(i**2)\n",
    "    print(lst1)"
   ]
  },
  {
   "cell_type": "code",
   "execution_count": null,
   "id": "ee39cf52",
   "metadata": {},
   "outputs": [],
   "source": [
    "##while loop\n",
    "i = 1\n",
    "while i<=10:\n",
    "    print(i)\n",
    "    i+=1\n"
   ]
  },
  {
   "cell_type": "code",
   "execution_count": null,
   "id": "96d5851d",
   "metadata": {},
   "outputs": [],
   "source": [
    "#for i in range(1,11):\n",
    "i = 10\n",
    "while i>=5:\n",
    "\n",
    "    print(i)\n",
    "    i-=1\n",
    "    "
   ]
  },
  {
   "cell_type": "code",
   "execution_count": null,
   "id": "92c683ea",
   "metadata": {},
   "outputs": [],
   "source": [
    "##find the sum of  numbers from 1 to 10 using while loop\n",
    "# Initialize variables\n",
    "num = 1\n",
    "total = 0\n",
    "\n",
    "# Use while loop to add numbers from 1 to 10\n",
    "while num <= 10:\n",
    "    total += num\n",
    "    num += 1\n",
    "\n",
    "# Print the result\n",
    "print(\"The sum is:\", total)\n"
   ]
  },
  {
   "cell_type": "code",
   "execution_count": null,
   "id": "f589021b",
   "metadata": {},
   "outputs": [],
   "source": []
  }
 ],
 "metadata": {
  "kernelspec": {
   "display_name": "Python 3",
   "language": "python",
   "name": "python3"
  },
  "language_info": {
   "codemirror_mode": {
    "name": "ipython",
    "version": 3
   },
   "file_extension": ".py",
   "mimetype": "text/x-python",
   "name": "python",
   "nbconvert_exporter": "python",
   "pygments_lexer": "ipython3",
   "version": "3.11.9"
  }
 },
 "nbformat": 4,
 "nbformat_minor": 5
}
