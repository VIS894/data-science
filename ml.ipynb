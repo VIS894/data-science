{
 "cells": [
  {
   "cell_type": "markdown",
   "id": "b7073069",
   "metadata": {},
   "source": [
    "linear regression\n",
    "X&y -- relationship _ straight line bna ke.\n",
    "\n",
    "straight line ke point lie karenge.\n",
    "y = mx+c\n",
    "y = M1x2+ M2X2 +  ---- +mnXn\n",
    "\\\n",
    "bfl - least error - Ap & PP(actual and predicated\n",
    ")\n",
    "model evalution (reg)\n",
    "_ R^2\n",
    "R^2 - variation ,rmse \n",
    "root mse  = how close  the ov are to the pv.\n",
    "y = Bo + B1X1+ ____--_+ BnXn+E\n",
    "  hw \n",
    "  1.overfitting & undeerfitting\n",
    "  2.Bias\n",
    "  3.variance\n",
    "  4.bias - variance trade off \n",
    "  5.\n"
   ]
  }
 ],
 "metadata": {
  "language_info": {
   "name": "python"
  }
 },
 "nbformat": 4,
 "nbformat_minor": 5
}
